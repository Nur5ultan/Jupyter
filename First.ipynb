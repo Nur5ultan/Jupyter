{
 "cells": [
  {
   "cell_type": "markdown",
   "id": "171d9d9e-7ef8-4abe-9a18-5b82ce5ac650",
   "metadata": {},
   "source": [
    "# Мой первый файл Jupyter Notebook"
   ]
  },
  {
   "cell_type": "code",
   "execution_count": 1,
   "id": "287e4efd-3601-47ba-b4db-0028bf92c851",
   "metadata": {},
   "outputs": [
    {
     "name": "stdout",
     "output_type": "stream",
     "text": [
      "Hello world!\n"
     ]
    }
   ],
   "source": [
    "print(\"Hello world!\")"
   ]
  },
  {
   "cell_type": "code",
   "execution_count": 2,
   "id": "1686a94a-1186-4218-9750-ee197be57b45",
   "metadata": {},
   "outputs": [
    {
     "data": {
      "text/plain": [
       "4"
      ]
     },
     "execution_count": 2,
     "metadata": {},
     "output_type": "execute_result"
    }
   ],
   "source": [
    "2 + 2"
   ]
  },
  {
   "cell_type": "markdown",
   "id": "ac82eb0c-fd86-41ed-816e-a46fef196d01",
   "metadata": {},
   "source": [
    "#### Генерируем случайное число"
   ]
  },
  {
   "cell_type": "code",
   "execution_count": 3,
   "id": "3bcd4c60-ed2b-49c3-84ed-add3b96d6e31",
   "metadata": {},
   "outputs": [
    {
     "name": "stdout",
     "output_type": "stream",
     "text": [
      "18\n"
     ]
    }
   ],
   "source": [
    "from random import randint\n",
    "\n",
    "generate_secret_number = randint(1, 100)\n",
    "print(generate_secret_number)"
   ]
  },
  {
   "cell_type": "markdown",
   "id": "132fb212-9d79-4648-ad4c-ced72bb54579",
   "metadata": {},
   "source": [
    "#### Вводится вещественное число. Нужно определить, что его целая часть кратна 3. На экран вывести True, если кратно и False - в противном случае."
   ]
  },
  {
   "cell_type": "code",
   "execution_count": 4,
   "id": "fe816b73-7654-4b3a-aa1c-5e2a26a31cd0",
   "metadata": {},
   "outputs": [
    {
     "name": "stdin",
     "output_type": "stream",
     "text": [
      " 78.34\n"
     ]
    },
    {
     "name": "stdout",
     "output_type": "stream",
     "text": [
      "True\n"
     ]
    }
   ],
   "source": [
    "number = float(input())\n",
    "num = int(number)\n",
    "\n",
    "if num % 3 == 0:\n",
    "    print(\"True\")\n",
    "else:\n",
    "    print(\"False\")"
   ]
  },
  {
   "cell_type": "code",
   "execution_count": null,
   "id": "c1662233-c75d-4e7a-86b5-ed4907e14574",
   "metadata": {},
   "outputs": [],
   "source": []
  }
 ],
 "metadata": {
  "kernelspec": {
   "display_name": "Python 3 (ipykernel)",
   "language": "python",
   "name": "python3"
  },
  "language_info": {
   "codemirror_mode": {
    "name": "ipython",
    "version": 3
   },
   "file_extension": ".py",
   "mimetype": "text/x-python",
   "name": "python",
   "nbconvert_exporter": "python",
   "pygments_lexer": "ipython3",
   "version": "3.9.13"
  }
 },
 "nbformat": 4,
 "nbformat_minor": 5
}
